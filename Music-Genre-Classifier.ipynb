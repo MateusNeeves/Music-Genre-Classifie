{
 "cells": [
  {
   "cell_type": "code",
   "execution_count": 7,
   "metadata": {},
   "outputs": [],
   "source": [
    "import pandas as pd\n",
    "import numpy as np\n",
    "import seaborn\n",
    "import os\n",
    "import random\n",
    "import librosa\n",
    "import matplotlib.pyplot as plt\n",
    "\n",
    "from sklearn.model_selection import KFold, train_test_split\n",
    "from sklearn.ensemble import RandomForestClassifier\n",
    "from sklearn.preprocessing import MinMaxScaler\n",
    "from sklearn.metrics import confusion_matrix, classification_report\n",
    "\n",
    "from sklearn.feature_selection import SelectKBest, chi2\n",
    "from sklearn.model_selection import GridSearchCV"
   ]
  },
  {
   "cell_type": "markdown",
   "metadata": {},
   "source": [
    "# Pré-processamento\n"
   ]
  },
  {
   "cell_type": "markdown",
   "metadata": {},
   "source": [
    "Aqui separamos o nosso dataset, que eram 1000 áudios de 30 segundos, em 10000 áudios de 3 segundos."
   ]
  },
  {
   "cell_type": "code",
   "execution_count": 8,
   "metadata": {},
   "outputs": [],
   "source": [
    "# Função utilizada para dividir 1 audio de 30s em 10 audios de 3s\n",
    "def split_audio(y, segment_duration, sr = 22050):\n",
    "    \n",
    "    segment_samples = int(segment_duration * sr)\n",
    "    num_segments = len(y) // segment_samples\n",
    "\n",
    "    segments = []\n",
    "\n",
    "    for i in range(num_segments):\n",
    "        start_sample = i * segment_samples\n",
    "        end_sample = start_sample + segment_samples\n",
    "        segment = y[start_sample:end_sample]\n",
    "        segments.append(segment)\n",
    "\n",
    "    return np.array(segments)"
   ]
  },
  {
   "cell_type": "markdown",
   "metadata": {},
   "source": [
    "# Seleção de features"
   ]
  },
  {
   "cell_type": "markdown",
   "metadata": {},
   "source": [
    "Aqui foi realizado o teste do Qui Quadrado para identificar as melhores features. Utilizamos o CSV de features disponibilizado no próprio dataset para identificar as melhores para extração. Foi utilizado apenas para agilizar o processo de seleção, mas todas features usadas foram extraídas após isso."
   ]
  },
  {
   "cell_type": "code",
   "execution_count": 9,
   "metadata": {},
   "outputs": [],
   "source": [
    "# Função utilizada separadamente para escolher as melhores features utilizando o .csv do dataset\n",
    "def best_features():\n",
    "    # leitura do csv\n",
    "    data = pd.read_csv('./Data/features_3_sec.csv')\n",
    "    data = data.iloc[0:, 1:] \n",
    "    data.head()\n",
    "\n",
    "    # separação dos dados dos resultados\n",
    "    Y_CSV = data['label']\n",
    "    X_CSV = data.loc[:, data.columns != 'label']\n",
    "\n",
    "    # normalizando os dados\n",
    "    scaler = MinMaxScaler()\n",
    "    scaler.fit(X_CSV)\n",
    "    X_CSV = scaler.transform(X_CSV)\n",
    "    X_CSV = np.array(X_CSV)\n",
    "\n",
    "    # pegando os nomes das features\n",
    "    columns = list(data.loc[:, data.columns])\n",
    "    columns.pop()\n",
    "    columns.pop(0)\n",
    "\n",
    "    #teste do chi quadrado para analisar quais sao as melhores features\n",
    "    bestfeatures = SelectKBest(score_func=chi2, k=20)\n",
    "    fit = bestfeatures.fit(X_CSV,Y_CSV)\n",
    "    dfscores = pd.DataFrame(fit.scores_)\n",
    "    dfcolumns = pd.DataFrame(columns)\n",
    "    featureScores = pd.concat([dfcolumns,dfscores],axis=1)\n",
    "    featureScores.columns = ['Specs','Score']\n",
    "    print(featureScores.nlargest(20,'Score'))"
   ]
  },
  {
   "cell_type": "code",
   "execution_count": 10,
   "metadata": {},
   "outputs": [
    {
     "name": "stdout",
     "output_type": "stream",
     "text": [
      "                      Specs       Score\n",
      "16                    tempo  526.439781\n",
      "4    spectral_centroid_mean  502.167020\n",
      "9               rolloff_var  360.281351\n",
      "6   spectral_bandwidth_mean  319.648157\n",
      "3                   rms_var  302.204508\n",
      "10  zero_crossing_rate_mean  292.496271\n",
      "5     spectral_centroid_var  280.626324\n",
      "7    spectral_bandwidth_var  254.724507\n",
      "1           chroma_stft_var  233.578560\n",
      "11   zero_crossing_rate_var  200.581536\n",
      "14            perceptr_mean  188.376750\n",
      "12             harmony_mean  175.927468\n",
      "31               mfcc8_mean  174.095320\n",
      "29               mfcc7_mean  172.933256\n",
      "20                mfcc2_var  162.046391\n",
      "27               mfcc6_mean  150.204701\n",
      "8              rolloff_mean  145.002460\n",
      "18                mfcc1_var  140.497141\n",
      "24                mfcc4_var  130.616102\n",
      "25               mfcc5_mean  115.326513\n"
     ]
    }
   ],
   "source": [
    "best_features()"
   ]
  },
  {
   "cell_type": "markdown",
   "metadata": {},
   "source": [
    "# Extração de features"
   ]
  },
  {
   "cell_type": "markdown",
   "metadata": {},
   "source": [
    "Função realizada para extrair cada feature desejada de um áudio e retornar um vetor com cada feature."
   ]
  },
  {
   "cell_type": "code",
   "execution_count": 11,
   "metadata": {},
   "outputs": [],
   "source": [
    "# Função utilizada para extrair as features de cada audio\n",
    "def extract_features(y, sr):\n",
    "    features = []\n",
    "\n",
    "    # Fast Fourier Transform\n",
    "    fft = np.fft.fft(y)\n",
    "    features.append(np.mean(np.abs(fft)))\n",
    "    features.append(np.var(np.abs(fft)))\n",
    "\n",
    "    # Tempo\n",
    "    tempo, _ = librosa.beat.beat_track(y=y, sr = sr)\n",
    "    features.append(tempo)\n",
    "\n",
    "    # Spectral Centroid\n",
    "    spectral_centroid = librosa.feature.spectral_centroid(y=y, sr=sr)\n",
    "    features.append(spectral_centroid.mean())\n",
    "    features.append(spectral_centroid.var())\n",
    "\n",
    "    # Rolloff\n",
    "    spec_roll=librosa.feature.spectral_rolloff(y=y,sr=sr)\n",
    "    features.append(spec_roll.mean())\n",
    "    features.append(spec_roll.var())\n",
    "\n",
    "    # Spectral Bandwith\n",
    "    spec_band=librosa.feature.spectral_bandwidth(y=y,sr=sr)\n",
    "    features.append(spec_band.mean())\n",
    "    features.append(spec_band.var())\n",
    "\n",
    "    # Root Mean Square Energy\n",
    "    RMSEn= librosa.feature.rms(y=y)\n",
    "    features.append(RMSEn.mean())\n",
    "    features.append(RMSEn.var())\n",
    "\n",
    "    # Zero-Crossing Rate\n",
    "    zero_crossing_rate = librosa.feature.zero_crossing_rate(y)\n",
    "    features.append(zero_crossing_rate.mean())\n",
    "    features.append(zero_crossing_rate.var())\n",
    "\n",
    "    # Chroma\n",
    "    chromagram = librosa.feature.chroma_stft(y=y, sr=sr, hop_length=512)\n",
    "    features.append(chromagram.mean())\n",
    "    features.append(chromagram.var())\n",
    "\n",
    "    # Harmonics and Perceptrual \n",
    "    harmony, perceptr = librosa.effects.hpss(y=y)\n",
    "    features.append(harmony.mean())\n",
    "    features.append(harmony.var())\n",
    "    features.append(perceptr.mean())\n",
    "    features.append(perceptr.var())\n",
    "\n",
    "    # mfccs\n",
    "    mfccs = librosa.feature.mfcc(y=y, sr=sr, n_mfcc=10)\n",
    "    features.append(mfccs.mean())\n",
    "    features.append(mfccs.var())\n",
    "\n",
    "    return features"
   ]
  },
  {
   "cell_type": "markdown",
   "metadata": {},
   "source": [
    "Aqui foi feito a extração de features de cada áudio e foi selecionado 400 áudios aleatórios de cada gênero musical (totalizando 4000)"
   ]
  },
  {
   "cell_type": "code",
   "execution_count": 12,
   "metadata": {},
   "outputs": [],
   "source": [
    "#Carregar e Dividir Arquivos de Áudio e Extrair Features\n",
    "\n",
    "X = []\n",
    "Y = []\n",
    "aux = []\n",
    " \n",
    "N_SAMPLE_GENRE = 400\n",
    "directory = './Data/genres/';\n",
    "genres = os.listdir(directory)\n",
    "\n",
    "# for para cada gênero\n",
    "for genre in os.listdir(directory):\n",
    "    aux = []\n",
    "    genre_path = directory+genre\n",
    "    # for para cada arquivo de audio\n",
    "    for audio_file in os.listdir(genre_path):\n",
    "        audio_path = genre_path+'/'+audio_file\n",
    "        y, sr = librosa.load(audio_path, sr=22050)\n",
    "\n",
    "        # Dividir audio de 30s em 10 audios  de 3s\n",
    "        aux2 = split_audio(y, 3)\n",
    "        for i in aux2:\n",
    "            aux.append(i)\n",
    "\n",
    "    # Escolher  400 audios aleatorios de um gênero\n",
    "    random.shuffle(aux)\n",
    "    aux = aux[:N_SAMPLE_GENRE]\n",
    "    for i in aux:\n",
    "        X.append(extract_features(i, sr))\n",
    "    Y = Y + ([genre]*N_SAMPLE_GENRE)"
   ]
  },
  {
   "cell_type": "markdown",
   "metadata": {},
   "source": [
    "Normalização entre 0 e 1"
   ]
  },
  {
   "cell_type": "code",
   "execution_count": 13,
   "metadata": {},
   "outputs": [],
   "source": [
    "# Normalizar as features\n",
    "\n",
    "scaler = MinMaxScaler()\n",
    "scaler.fit(X)\n",
    "X = scaler.transform(X)\n",
    "\n",
    "X = np.array(X)\n",
    "Y= np.array(Y)"
   ]
  },
  {
   "cell_type": "markdown",
   "metadata": {},
   "source": [
    "# Modelo"
   ]
  },
  {
   "cell_type": "markdown",
   "metadata": {},
   "source": [
    "Não precisa rodar essa função, ela foi utilizada para identificar os hiperparâmetros. Encontrados uma vez, não se faz necessário procurar novamente."
   ]
  },
  {
   "cell_type": "code",
   "execution_count": 14,
   "metadata": {},
   "outputs": [],
   "source": [
    "# Função utilizada separadamente para descobrir os melhores hiperparâmetros para serem usados na modelo Random Forest\n",
    "def best_param():\n",
    "    X_train, X_test, Y_train, Y_test = train_test_split(X, Y, test_size=0.3, random_state=42)\n",
    "\n",
    "    params = {'n_estimators': [100, 500, 1000],\n",
    "                'bootstrap': [False, True],\n",
    "                'max_depth': [10, 50, 100],\n",
    "                'max_features': ['sqrt', 'log2', None],\n",
    "                'min_samples_leaf': [1, 2, 4],\n",
    "                'min_samples_split': [1, 2, 4]\n",
    "                }\n",
    "\n",
    "    RF_grid_search = GridSearchCV(RandomForestClassifier(), params, cv=5)\n",
    "    RF_grid_search.fit(X_train, Y_train)\n",
    "\n",
    "    RF_grid_search.best_params_"
   ]
  },
  {
   "cell_type": "markdown",
   "metadata": {},
   "source": [
    "Na célula abaixo o modelo foi executado com os parâmetros econtrados. Utilizamos a técnica de cross validation por meio do KFold para ter um resultado mais preciso"
   ]
  },
  {
   "cell_type": "code",
   "execution_count": 15,
   "metadata": {},
   "outputs": [],
   "source": [
    "# Treinando o modelo Random Forest utilizando kFold Cross Validation\n",
    "kf = KFold(n_splits=5, shuffle=True, random_state=42)\n",
    "\n",
    "rf_clf = RandomForestClassifier(n_estimators=500, random_state=42, bootstrap=False, max_depth=50, max_features='sqrt', min_samples_leaf=1, min_samples_split=2)\n",
    "\n",
    "accuracy = []\n",
    "aux = np.zeros((10,10))\n",
    "aux_pred = []\n",
    "aux_test = []\n",
    "\n",
    "for train_index, test_index in kf.split(X):\n",
    "    X_train, X_test = X[train_index], X[test_index]\n",
    "    Y_train, Y_test = Y[train_index], Y[test_index]\n",
    "\n",
    "    rf_clf.fit(X_train, Y_train)\n",
    "\n",
    "    Y_pred = rf_clf.predict(X_test)\n",
    "\n",
    "    aux_pred.extend(Y_pred)\n",
    "    aux_test.extend(Y_test)\n",
    "    \n",
    "    accuracy.append(rf_clf.score(X_test, Y_test))\n",
    "\n",
    "    # Somar as matrizes de confusão de cada teste\n",
    "    cm = confusion_matrix(Y_test, Y_pred, labels=genres)\n",
    "    for i in range(len(cm)):   \n",
    "        for j in range(len(cm[0])):\n",
    "            aux[i][j] = aux[i][j] + cm[i][j]"
   ]
  },
  {
   "cell_type": "markdown",
   "metadata": {},
   "source": [
    "# Resultados"
   ]
  },
  {
   "cell_type": "markdown",
   "metadata": {},
   "source": [
    "Aqui visualizamos o desempenho do classificador."
   ]
  },
  {
   "cell_type": "code",
   "execution_count": 16,
   "metadata": {},
   "outputs": [
    {
     "name": "stdout",
     "output_type": "stream",
     "text": [
      "Accuracy:  [0.78875, 0.76125, 0.7975, 0.7725, 0.79125]\n",
      "Accuracy Mean:  0.78225\n",
      "\n",
      "Classification Report:\n",
      "              precision    recall  f1-score   support\n",
      "\n",
      "       blues       0.81      0.79      0.80       414\n",
      "   classical       0.92      0.89      0.90       410\n",
      "     country       0.71      0.64      0.67       445\n",
      "       disco       0.78      0.73      0.75       427\n",
      "      hiphop       0.75      0.82      0.79       366\n",
      "        jazz       0.82      0.75      0.78       438\n",
      "       metal       0.87      0.86      0.86       407\n",
      "         pop       0.77      0.86      0.81       361\n",
      "      reggae       0.78      0.79      0.78       398\n",
      "        rock       0.61      0.73      0.66       334\n",
      "\n",
      "    accuracy                           0.78      4000\n",
      "   macro avg       0.78      0.78      0.78      4000\n",
      "weighted avg       0.79      0.78      0.78      4000\n",
      "\n"
     ]
    }
   ],
   "source": [
    "# Exibir Acurácia e Classification Report\n",
    "\n",
    "print(\"Accuracy: \", accuracy)\n",
    "print(\"Accuracy Mean: \", np.mean(accuracy))\n",
    "\n",
    "classification_rep = classification_report(aux_pred, aux_test)\n",
    "print(f\"\\nClassification Report:\\n{classification_rep}\")"
   ]
  },
  {
   "cell_type": "markdown",
   "metadata": {},
   "source": [
    "Para entender melhor, foi utilizada uma confusion matrix para exibir os resultados individuais. Vale ressaltar que a matriz exibida é o resultado de 5 testes somados."
   ]
  },
  {
   "cell_type": "code",
   "execution_count": 17,
   "metadata": {},
   "outputs": [
    {
     "data": {
      "image/png": "[encoded data removed]",
      "text/plain": [
       "<Figure size 640x480 with 2 Axes>"
      ]
     },
     "metadata": {},
     "output_type": "display_data"
    }
   ],
   "source": [
    "# Exibir Confusion Matrix\n",
    "\n",
    "ax = plt.subplot()\n",
    "seaborn.heatmap(aux, cmap=\"BuPu\", annot=True, fmt='g', ax=ax)\n",
    "\n",
    "ax.set_title('Confusion Matrix')\n",
    "ax.set_xlabel('Predicted labels')\n",
    "ax.set_ylabel('True labels')\n",
    "plt.xticks(rotation=45, ha=\"right\")\n",
    "plt.yticks(rotation=0, ha=\"right\")\n",
    "ax.xaxis.set_ticklabels(genres) \n",
    "ax.yaxis.set_ticklabels(genres)\n",
    "\n",
    "plt.show()"
   ]
  }
 ],
 "metadata": {
  "kernelspec": {
   "display_name": "Python 3",
   "language": "python",
   "name": "python3"
  },
  "language_info": {
   "codemirror_mode": {
    "name": "ipython",
    "version": 3
   },
   "file_extension": ".py",
   "mimetype": "text/x-python",
   "name": "python",
   "nbconvert_exporter": "python",
   "pygments_lexer": "ipython3",
   "version": "3.11.8"
  }
 },
 "nbformat": 4,
 "nbformat_minor": 2
}
